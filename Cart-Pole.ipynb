{
 "cells": [
  {
   "cell_type": "markdown",
   "metadata": {},
   "source": [
    "# Play Cart Pole"
   ]
  },
  {
   "cell_type": "code",
   "execution_count": null,
   "metadata": {},
   "outputs": [],
   "source": [
    "import gym\n",
    "env = gym.make(\"CartPole-v0\") #https://gym.openai.com/envs/#board_game"
   ]
  },
  {
   "cell_type": "code",
   "execution_count": null,
   "metadata": {},
   "outputs": [],
   "source": [
    "print(env.observation_space.low, env.observation_space.high)\n",
    "#cart position/velocity + pole angle/velocity at tip"
   ]
  },
  {
   "cell_type": "code",
   "execution_count": null,
   "metadata": {},
   "outputs": [],
   "source": [
    "env.action_space.n  #http://gym.openai.com/docs/"
   ]
  },
  {
   "cell_type": "code",
   "execution_count": null,
   "metadata": {},
   "outputs": [],
   "source": [
    "# Play randomly\n",
    "env.reset()\n",
    "for _ in range(1000):\n",
    "    env.render()\n",
    "    env.step(env.action_space.sample()) # take a random action\n",
    "\n",
    "env.close()"
   ]
  },
  {
   "cell_type": "markdown",
   "metadata": {},
   "source": [
    "# Q Training"
   ]
  },
  {
   "cell_type": "code",
   "execution_count": null,
   "metadata": {},
   "outputs": [],
   "source": [
    "import importlib\n",
    "import qlearning\n",
    "importlib.reload(qlearning)\n",
    "import numpy as np\n",
    "import gym\n",
    "env = gym.make(\"CartPole-v0\") #https://gym.openai.com/envs/#board_game\n",
    "\n",
    "def state_function(state):\n",
    "    if abs(state[0]) >= 2.2:\n",
    "        x_pos = round(state[0], 2)\n",
    "    else:\n",
    "        x_pos = 0\n",
    "    return (x_pos, round(state[1], 1), round(state[2], 2), qlearning.round_to(state[3], 1))\n",
    "        \n",
    "game = qlearning.GamePlayer(env, state_function)"
   ]
  },
  {
   "cell_type": "code",
   "execution_count": null,
   "metadata": {},
   "outputs": [],
   "source": [
    "total_episodes = 1000\n",
    "alpha = 0.3\n",
    "gamma = 0.9                 # Discounting rate\n",
    "decay_rate = 0.0          # Exponential decay rate for exploration prob\n",
    "epsilon = 0.3                 # Exploration rate\n",
    "#game.erase_training()\n",
    "rewards = game.train(total_episodes, alpha, gamma, epsilon, decay_rate, logEvery=100)\n",
    "print(\"Total reward average:\", np.mean(rewards))\n",
    "print(len(game.qtable))"
   ]
  },
  {
   "cell_type": "code",
   "execution_count": null,
   "metadata": {},
   "outputs": [],
   "source": [
    "qlearning.visualize_computer_playing(5, env, game.q_trained_action)"
   ]
  },
  {
   "cell_type": "code",
   "execution_count": null,
   "metadata": {},
   "outputs": [],
   "source": [
    "game.qtable"
   ]
  },
  {
   "cell_type": "markdown",
   "metadata": {},
   "source": [
    "# Double Q training"
   ]
  },
  {
   "cell_type": "code",
   "execution_count": null,
   "metadata": {},
   "outputs": [],
   "source": [
    "import importlib\n",
    "import qlearning\n",
    "importlib.reload(qlearning)\n",
    "import numpy as np\n",
    "import gym\n",
    "env = gym.make(\"CartPole-v0\") #https://gym.openai.com/envs/#board_game\n",
    "\n",
    "def state_function(state):\n",
    "    if abs(state[0]) >= 2.2:\n",
    "        x_pos = round(state[0], 2)\n",
    "    else:\n",
    "        x_pos = 0\n",
    "    return (x_pos, round(state[1], 1), round(state[2], 2), qlearning.round_to(state[3], 1))\n",
    "        \n",
    "game = qlearning.GamePlayer(env, state_function)"
   ]
  },
  {
   "cell_type": "code",
   "execution_count": null,
   "metadata": {},
   "outputs": [],
   "source": [
    "total_episodes = 50\n",
    "alpha = 0.3\n",
    "gamma = 0.9                 # Discounting rate\n",
    "decay_rate = 0.0          # Exponential decay rate for exploration prob\n",
    "epsilon = 0.3                 # Exploration rate\n",
    "#game.erase_training()\n",
    "rewards = game.double_q_train(total_episodes, alpha, gamma, epsilon, decay_rate, logEvery=10)\n",
    "print(\"Total reward average:\", np.mean(rewards))\n",
    "print(len(game.qtable))"
   ]
  },
  {
   "cell_type": "code",
   "execution_count": null,
   "metadata": {},
   "outputs": [],
   "source": [
    "qlearning.visualize_computer_playing(5, env, game.double_trained_action)"
   ]
  },
  {
   "cell_type": "code",
   "execution_count": null,
   "metadata": {},
   "outputs": [],
   "source": [
    "print(game.Q2)"
   ]
  },
  {
   "cell_type": "markdown",
   "metadata": {},
   "source": [
    "# Using tensorflow"
   ]
  },
  {
   "cell_type": "code",
   "execution_count": null,
   "metadata": {},
   "outputs": [],
   "source": [
    "import tensorflow as tf\n",
    "import gym\n",
    "import numpy as np\n",
    "from qlearning import round_to\n",
    "env = gym.make(\"CartPole-v0\") #https://gym.openai.com/envs/#board_game"
   ]
  },
  {
   "cell_type": "code",
   "execution_count": null,
   "metadata": {},
   "outputs": [],
   "source": [
    "env.observation_space.shape[0]"
   ]
  },
  {
   "cell_type": "code",
   "execution_count": null,
   "metadata": {},
   "outputs": [],
   "source": [
    "state_dim = env.observation_space.shape[0]\n",
    "\n",
    "tf.reset_default_graph()\n",
    "alpha = 0.001\n",
    "epsilon = 0.2\n",
    "gamma = 0.9\n",
    "N = 50\n",
    "total_episodes = 4000\n",
    "inputs = tf.placeholder(shape=[1,state_dim],dtype=tf.float32)\n",
    "training_inputs = tf.placeholder(shape=[N,state_dim],dtype=tf.float32)\n",
    "states = tf.placeholder(shape=[N,state_dim],dtype=tf.float32)\n",
    "ytarget = tf.placeholder(shape=[N,env.action_space.n],dtype=tf.float32)\n",
    "W1 = tf.Variable(tf.random_uniform([state_dim, 24],0,0.01))\n",
    "W2 = tf.Variable(tf.random_uniform([24, 24],0,0.01))\n",
    "W = tf.Variable(tf.random_uniform([24, env.action_space.n],0,0.01))\n",
    "\n",
    "Qs = tf.matmul(tf.nn.relu(tf.matmul(tf.nn.relu(tf.matmul(states, W1)), W2)), W)\n",
    "Q = tf.matmul(tf.nn.relu(tf.matmul(tf.nn.relu(tf.matmul(inputs, W1)), W2)), W)\n",
    "\n",
    "loss = tf.reduce_sum(tf.square(ytarget - Qs))\n",
    "trainer = tf.train.AdamOptimizer(learning_rate=alpha)\n",
    "updateModel = trainer.minimize(loss)"
   ]
  },
  {
   "cell_type": "code",
   "execution_count": null,
   "metadata": {},
   "outputs": [],
   "source": [
    "init = tf.global_variables_initializer()\n",
    "reward_list = []\n",
    "tot_reward_list = []\n",
    "logEvery = N * 2\n",
    "\n",
    "with tf.Session() as sess:\n",
    "    sess.run(init)\n",
    "    nstep = 0\n",
    "    Y = []\n",
    "    S = []\n",
    "    for episode in range(total_episodes):\n",
    "        state = env.reset()\n",
    "        done = False\n",
    "        tot_reward = 0\n",
    "        while done is False:\n",
    "            if nstep == N:\n",
    "                S = np.array(S).reshape(N,state_dim)\n",
    "                sess.run([updateModel], feed_dict={states: S, ytarget: Y})\n",
    "                nstep = 0\n",
    "                Y = []\n",
    "                S = []\n",
    "\n",
    "            S.append([state])\n",
    "\n",
    "            Y.append(sess.run([Q], feed_dict={inputs: [state]})[0][0])\n",
    "            if np.random.rand(1) < epsilon:\n",
    "                action = env.action_space.sample()\n",
    "            else:\n",
    "                action = np.argmax(Y[nstep])\n",
    "            \n",
    "            next_state, reward, done, _ = env.step(action)\n",
    "            #print(\"State: {}, action: {}, Q(s,:): {}\".format(state, action, Y[nstep]))\n",
    "            if done:\n",
    "                Y[nstep][action] = -10\n",
    "            else:\n",
    "                Qnext = sess.run([Q], feed_dict={inputs: [next_state]})[0][0]\n",
    "                Y[nstep][action] = reward + gamma * np.max(Qnext)\n",
    "            \n",
    "            #print(\"Ytarget: {}, Q(s',:): {}\".format(Y[nstep], Qnext))\n",
    "            \n",
    "            state = next_state\n",
    "            tot_reward += reward \n",
    "            nstep += 1\n",
    "            reward_list.append(tot_reward)\n",
    "\n",
    "        if logEvery > 0 and (episode+1) % logEvery == 0:\n",
    "            ave_reward = np.mean(reward_list)\n",
    "            tot_reward_list.append(ave_reward)\n",
    "            reward_list = []\n",
    "            print('Episode {} Average Reward: {}, alpha: {}, e: {}'.format(episode+1, ave_reward, alpha, epsilon))\n",
    "\n",
    "print(\"Total reward average:\", np.mean(tot_reward_list))"
   ]
  },
  {
   "cell_type": "code",
   "execution_count": null,
   "metadata": {},
   "outputs": [],
   "source": [
    "from qlearning import visualize_computer_playing\n",
    "\n",
    "action_function = lambda state: np.argmax(sess.run([Q], feed_dict={inputs: [state]})[0][0])\n",
    "\n",
    "init = tf.global_variables_initializer()\n",
    "with tf.Session() as sess:\n",
    "    sess.run(init)\n",
    "    visualize_computer_playing(15, env, action_function)"
   ]
  },
  {
   "cell_type": "markdown",
   "metadata": {},
   "source": [
    "# Using keras"
   ]
  },
  {
   "cell_type": "code",
   "execution_count": null,
   "metadata": {},
   "outputs": [],
   "source": [
    "from keras.models import Sequential\n",
    "from keras.layers import Dense\n",
    "from keras.optimizers import Adam\n",
    "import gym\n",
    "import numpy as np"
   ]
  },
  {
   "cell_type": "code",
   "execution_count": null,
   "metadata": {},
   "outputs": [],
   "source": [
    "env = gym.make(\"CartPole-v0\") #https://gym.openai.com/envs/#board_game"
   ]
  },
  {
   "cell_type": "code",
   "execution_count": null,
   "metadata": {},
   "outputs": [],
   "source": [
    "state_size = env.observation_space.shape[0]\n",
    "action_size = env.action_space.n\n",
    "alpha = 0.001\n",
    "\n",
    "model = Sequential()\n",
    "model.add(Dense(24, input_dim=state_size, activation='relu'))\n",
    "model.add(Dense(24, activation='relu'))\n",
    "model.add(Dense(action_size, activation='linear'))\n",
    "model.compile(loss='mse', optimizer=Adam(lr=alpha))\n",
    "\n",
    "epsilon = 0.2\n",
    "gamma = 0.9\n",
    "N = 50\n",
    "total_episodes = 400"
   ]
  },
  {
   "cell_type": "code",
   "execution_count": null,
   "metadata": {},
   "outputs": [],
   "source": [
    "reward_list = []\n",
    "tot_reward_list = []\n",
    "logEvery = N * 2\n",
    "\n",
    "nstep = 0\n",
    "Y = []\n",
    "S = []\n",
    "for episode in range(total_episodes):\n",
    "    state = env.reset()\n",
    "    done = False\n",
    "    tot_reward = 0\n",
    "    while done is False:\n",
    "        if nstep == N:\n",
    "            S = np.stack(S, axis=0).reshape(N, state_size)\n",
    "            Y = np.stack(Y, axis=0)\n",
    "            model.fit(S, Y, epochs=1, verbose=0)\n",
    "            nstep = 0\n",
    "            Y = []\n",
    "            S = []\n",
    "\n",
    "        state = np.array(state).reshape(1, state_size)\n",
    "        S.append(state)\n",
    "        Y.append(model.predict(state)[0])\n",
    "        if np.random.rand(1) < epsilon:\n",
    "            action = env.action_space.sample()\n",
    "        else:\n",
    "            action = np.argmax(Y[nstep])\n",
    "\n",
    "        next_state, reward, done, _ = env.step(action)\n",
    "        next_state = np.array(next_state).reshape(1, state_size)\n",
    "        if done:\n",
    "            Y[nstep][action] = -10\n",
    "        else:\n",
    "            Qnext = model.predict(next_state)[0]\n",
    "            Y[nstep][action] = reward + gamma * np.max(Qnext)\n",
    "\n",
    "        state = next_state\n",
    "        tot_reward += reward \n",
    "        nstep += 1\n",
    "        reward_list.append(tot_reward)\n",
    "\n",
    "    if logEvery > 0 and (episode+1) % logEvery == 0:\n",
    "        ave_reward = np.mean(reward_list)\n",
    "        tot_reward_list.append(ave_reward)\n",
    "        reward_list = []\n",
    "        print('Episode {} Average Reward: {}, alpha: {}, e: {}'.format(episode+1, ave_reward, alpha, epsilon))\n",
    "\n",
    "print(\"Total reward average:\", np.mean(tot_reward_list))"
   ]
  },
  {
   "cell_type": "code",
   "execution_count": null,
   "metadata": {},
   "outputs": [],
   "source": [
    "from qlearning import visualize_computer_playing\n",
    "\n",
    "action_function = lambda state: np.argmax(model.predict(np.array(state).reshape(1, state_size))[0])\n",
    "visualize_computer_playing(15, env, action_function)"
   ]
  }
 ],
 "metadata": {
  "kernelspec": {
   "display_name": "Python 3",
   "language": "python",
   "name": "python3"
  },
  "language_info": {
   "codemirror_mode": {
    "name": "ipython",
    "version": 3
   },
   "file_extension": ".py",
   "mimetype": "text/x-python",
   "name": "python",
   "nbconvert_exporter": "python",
   "pygments_lexer": "ipython3",
   "version": "3.7.1"
  }
 },
 "nbformat": 4,
 "nbformat_minor": 2
}
