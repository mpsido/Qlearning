{
 "cells": [
  {
   "cell_type": "markdown",
   "metadata": {},
   "source": [
    "# Play Cart Pole"
   ]
  },
  {
   "cell_type": "code",
   "execution_count": null,
   "metadata": {},
   "outputs": [],
   "source": [
    "import gym\n",
    "env = gym.make(\"CartPole-v0\") #https://gym.openai.com/envs/#board_game"
   ]
  },
  {
   "cell_type": "code",
   "execution_count": null,
   "metadata": {},
   "outputs": [],
   "source": [
    "print(env.observation_space.low, env.observation_space.high)\n",
    "#cart position/velocity + pole angle/velocity at tip"
   ]
  },
  {
   "cell_type": "code",
   "execution_count": null,
   "metadata": {},
   "outputs": [],
   "source": [
    "env.action_space.n  #http://gym.openai.com/docs/"
   ]
  },
  {
   "cell_type": "code",
   "execution_count": null,
   "metadata": {},
   "outputs": [],
   "source": [
    "# Play randomly\n",
    "env.reset()\n",
    "for _ in range(1000):\n",
    "    env.render()\n",
    "    env.step(env.action_space.sample()) # take a random action\n",
    "\n",
    "env.close()"
   ]
  },
  {
   "cell_type": "markdown",
   "metadata": {},
   "source": [
    "# Q Training"
   ]
  },
  {
   "cell_type": "code",
   "execution_count": null,
   "metadata": {},
   "outputs": [],
   "source": [
    "import importlib\n",
    "import qlearning\n",
    "importlib.reload(qlearning)\n",
    "import numpy as np\n",
    "import gym\n",
    "env = gym.make(\"CartPole-v0\") #https://gym.openai.com/envs/#board_game\n",
    "\n",
    "def state_function(state):\n",
    "    if abs(state[0]) >= 2.2:\n",
    "        x_pos = round(state[0], 2)\n",
    "    else:\n",
    "        x_pos = 0\n",
    "    return (x_pos, round(state[1], 1), round(state[2], 2), qlearning.round_to(state[3], 1))\n",
    "        \n",
    "game = qlearning.GamePlayer(env, state_function)"
   ]
  },
  {
   "cell_type": "code",
   "execution_count": null,
   "metadata": {},
   "outputs": [],
   "source": [
    "total_episodes = 1000\n",
    "alpha = 0.3\n",
    "gamma = 0.9                 # Discounting rate\n",
    "decay_rate = 0.0          # Exponential decay rate for exploration prob\n",
    "epsilon = 0.3                 # Exploration rate\n",
    "#game.erase_training()\n",
    "rewards = game.train(total_episodes, alpha, gamma, epsilon, decay_rate, logEvery=100)\n",
    "print(\"Total reward average:\", np.mean(rewards))\n",
    "print(len(game.qtable))"
   ]
  },
  {
   "cell_type": "code",
   "execution_count": null,
   "metadata": {},
   "outputs": [],
   "source": [
    "for episode in range(5):\n",
    "    state = game.start_game()\n",
    "    print(\"****************************************************\")\n",
    "    print(\"EPISODE \", episode)\n",
    "    done = False\n",
    "    tot_reward = 0\n",
    "    while done is False:\n",
    "    # for step in range(max_steps):\n",
    "        # Take the action (index) that have the maximum expected future reward given that state\n",
    "        new_state, reward, done, info = game.computer_play_step(state)\n",
    "        #game.play_game_step(0)\n",
    "        state = new_state\n",
    "        tot_reward += reward\n",
    "    print(\"Reward:\", tot_reward)\n",
    "game.end_game()"
   ]
  },
  {
   "cell_type": "code",
   "execution_count": null,
   "metadata": {},
   "outputs": [],
   "source": [
    "game.qtable"
   ]
  },
  {
   "cell_type": "markdown",
   "metadata": {},
   "source": [
    "# Double Q training"
   ]
  },
  {
   "cell_type": "code",
   "execution_count": null,
   "metadata": {},
   "outputs": [],
   "source": [
    "import importlib\n",
    "import qlearning\n",
    "importlib.reload(qlearning)\n",
    "import numpy as np\n",
    "import gym\n",
    "env = gym.make(\"CartPole-v0\") #https://gym.openai.com/envs/#board_game\n",
    "\n",
    "def state_function(state):\n",
    "    if abs(state[0]) >= 2.2:\n",
    "        x_pos = round(state[0], 2)\n",
    "    else:\n",
    "        x_pos = 0\n",
    "    return (x_pos, round(state[1], 1), round(state[2], 2), qlearning.round_to(state[3], 1))\n",
    "        \n",
    "game = qlearning.GamePlayer(env, state_function)"
   ]
  },
  {
   "cell_type": "code",
   "execution_count": null,
   "metadata": {},
   "outputs": [],
   "source": [
    "total_episodes = 1000\n",
    "alpha = 0.3\n",
    "gamma = 0.9                 # Discounting rate\n",
    "decay_rate = 0.0          # Exponential decay rate for exploration prob\n",
    "epsilon = 0.3                 # Exploration rate\n",
    "#game.erase_training()\n",
    "rewards = game.double_q_train(total_episodes, alpha, gamma, epsilon, decay_rate, logEvery=100)\n",
    "print(\"Total reward average:\", np.mean(rewards))\n",
    "print(len(game.qtable))"
   ]
  },
  {
   "cell_type": "code",
   "execution_count": null,
   "metadata": {},
   "outputs": [],
   "source": [
    "for episode in range(5):\n",
    "    state = game.start_game(True)\n",
    "    print(\"****************************************************\")\n",
    "    print(\"EPISODE \", episode)\n",
    "    done = False\n",
    "    tot_reward = 0\n",
    "    while done is False:\n",
    "    # for step in range(max_steps):\n",
    "        # Take the action (index) that have the maximum expected future reward given that state\n",
    "        new_state, reward, done, info = game.double_trained_computer_play_step(state)\n",
    "        #game.play_game_step(0)\n",
    "        state = new_state\n",
    "        tot_reward += reward\n",
    "    print(\"Reward:\", tot_reward)\n",
    "game.end_game()"
   ]
  }
 ],
 "metadata": {
  "kernelspec": {
   "display_name": "Python 3",
   "language": "python",
   "name": "python3"
  },
  "language_info": {
   "codemirror_mode": {
    "name": "ipython",
    "version": 3
   },
   "file_extension": ".py",
   "mimetype": "text/x-python",
   "name": "python",
   "nbconvert_exporter": "python",
   "pygments_lexer": "ipython3",
   "version": "3.7.1"
  }
 },
 "nbformat": 4,
 "nbformat_minor": 2
}
