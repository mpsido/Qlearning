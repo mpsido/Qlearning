{
 "cells": [
  {
   "cell_type": "code",
   "execution_count": null,
   "metadata": {},
   "outputs": [],
   "source": [
    "import numpy as np"
   ]
  },
  {
   "cell_type": "code",
   "execution_count": null,
   "metadata": {},
   "outputs": [],
   "source": [
    "class CarRental():    \n",
    "    def reset(self):\n",
    "        self.nb_location = 2\n",
    "        self.car_request = (3, 4) \n",
    "        self.car_return = (3, 2)\n",
    "        self.state = [0, 0]\n",
    "        self.rent_reward = 10\n",
    "        self.transfer_cost = 2\n",
    "        self.reward = 0\n",
    "        self.location_capacity = 20\n",
    "    \n",
    "    def __init__(self):\n",
    "        self.reset()\n",
    "\n",
    "    def rent_and_return(self, log = False):\n",
    "        for i in range(self.nb_location):\n",
    "            nb_rent_request = np.random.poisson(self.car_request[i], 1)[0]\n",
    "            nb_return = np.random.poisson(self.car_return[i], 1)[0]\n",
    "            if log: print(\"Rent, Return:\", nb_rent_request, nb_return)\n",
    "            # first return cars\n",
    "            self.state[i] = min(self.location_capacity, self.state[i] + nb_return)\n",
    "            if log: print(\"Return\", nb_return, \"on location\", i, \"nb cars:\", self.state[i])\n",
    "            # rent out cars\n",
    "            nb_rent = nb_rent_request\n",
    "            if (nb_rent_request > self.state[i]):\n",
    "                if log: print(\"!!! Refusing\", nb_rent_request - self.state[i], \"rentals on location\", i)\n",
    "                nb_rent = self.state[i]\n",
    "            if log: print(\"Renting\", nb_rent, \"from location \", i, \"nb cars:\", self.state[i])\n",
    "            self.state[i] -= nb_rent\n",
    "            self.reward += self.rent_reward * nb_rent\n",
    "            if log: print(\"State:\", self.state)\n",
    "            if log: print(\"Reward:\", self.reward)\n",
    "\n",
    "    def perform_action(self, action):\n",
    "        self.state[0] = min(self.state[0] - action, self.location_capacity)\n",
    "        self.state[1] = min(self.state[1] + action, self.location_capacity)\n",
    "        self.reward -= self.transfer_cost * abs(action)\n",
    "        \n",
    "car_rental = CarRental()"
   ]
  },
  {
   "cell_type": "code",
   "execution_count": null,
   "metadata": {},
   "outputs": [],
   "source": [
    "total_reward = 0\n",
    "for i in range(5):\n",
    "    car_rental.reset()\n",
    "    for j in range(10):\n",
    "        car_rental.rent_and_return()\n",
    "        car_rental.perform_action(1)\n",
    "        # car_rental.perform_action(car_rental.state[0] - car_rental.state[1] + 1)\n",
    "    print(car_rental.reward)\n",
    "    total_reward += car_rental.reward\n",
    "print(\"Total:\", total_reward)"
   ]
  },
  {
   "cell_type": "code",
   "execution_count": null,
   "metadata": {},
   "outputs": [],
   "source": [
    "# Policy evaluation\n",
    "import math # compute Poisson's probabilities\n",
    "V_s = {}\n",
    "gamma = 0.9\n",
    "\n",
    "for s1, s2 in np.ndindex((car_rental.location_capacity + 1,car_rental.location_capacity + 1)):\n",
    "    if (s1, s2) not in V_s:\n",
    "        V_s[(s1, s2)] = 0.0\n",
    "    # Compute expected reward given strategy consisting in doing nothing\n",
    "    # expected reward on location 1\n",
    "    for i in range(1 , s1):\n",
    "        r = car_rental.rent_reward * i\n",
    "        l_ambda = car_rental.car_request[0]\n",
    "        p_r = math.pow(l_ambda, i) * math.exp(-l_ambda) / math.factorial(i)\n",
    "        V_s[(s1, s2)] += p_r * (r + gamma * V_s[(s1, s2)] )\n",
    "\n",
    "    # expected reward on location 2\n",
    "    for i in range(1 , s2):\n",
    "        r = car_rental.rent_reward * i\n",
    "        l_ambda = car_rental.car_request[1]\n",
    "        p_r = math.pow(l_ambda, i) * math.exp(-l_ambda) / math.factorial(i)\n",
    "        V_s[(s1, s2)] += p_r * (r + gamma * V_s[(s1, s2)] )\n"
   ]
  },
  {
   "cell_type": "code",
   "execution_count": null,
   "metadata": {},
   "outputs": [],
   "source": [
    "print(V_s)"
   ]
  }
 ],
 "metadata": {
  "kernelspec": {
   "display_name": "Python 3",
   "language": "python",
   "name": "python3"
  },
  "language_info": {
   "codemirror_mode": {
    "name": "ipython",
    "version": 3
   },
   "file_extension": ".py",
   "mimetype": "text/x-python",
   "name": "python",
   "nbconvert_exporter": "python",
   "pygments_lexer": "ipython3",
   "version": "3.7.1"
  }
 },
 "nbformat": 4,
 "nbformat_minor": 2
}
