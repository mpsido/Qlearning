{
 "cells": [
  {
   "cell_type": "code",
   "execution_count": null,
   "metadata": {},
   "outputs": [],
   "source": [
    "import numpy as np"
   ]
  },
  {
   "cell_type": "code",
   "execution_count": null,
   "metadata": {},
   "outputs": [],
   "source": [
    "class CarRental():    \n",
    "    def reset(self):\n",
    "        self.nb_location = 2\n",
    "        self.car_request = (3, 4) \n",
    "        self.car_return = (3, 2)\n",
    "        self.state = [0, 0]\n",
    "        self.rent_reward = 10\n",
    "        self.transfer_cost = 2\n",
    "        self.reward = 0\n",
    "        self.location_capacity = 20\n",
    "    \n",
    "    def __init__(self):\n",
    "        self.reset()\n",
    "\n",
    "    def rent_and_return(self, log = False):\n",
    "        for i in range(self.nb_location):\n",
    "            nb_rent_request = np.random.poisson(self.car_request[i], 1)[0]\n",
    "            nb_return = np.random.poisson(self.car_return[i], 1)[0]\n",
    "            if log: print(\"Rent, Return:\", nb_rent_request, nb_return)\n",
    "            # first return cars\n",
    "            self.state[i] = min(self.location_capacity, self.state[i] + nb_return)\n",
    "            if log: print(\"Return\", nb_return, \"on location\", i, \"nb cars:\", self.state[i])\n",
    "            # rent out cars\n",
    "            nb_rent = nb_rent_request\n",
    "            if (nb_rent_request > self.state[i]):\n",
    "                if log: print(\"!!! Refusing\", nb_rent_request - self.state[i], \"rentals on location\", i)\n",
    "                nb_rent = self.state[i]\n",
    "            if log: print(\"Renting\", nb_rent, \"from location \", i, \"nb cars:\", self.state[i])\n",
    "            self.state[i] -= nb_rent\n",
    "            self.reward += self.rent_reward * nb_rent\n",
    "            if log: print(\"State:\", self.state)\n",
    "            if log: print(\"Reward:\", self.reward)\n",
    "\n",
    "    def perform_action(self, action):\n",
    "        state, cost = self.get_action_output(action)\n",
    "        self.state = state\n",
    "        self.reward -= cost\n",
    "        \n",
    "    def get_action_output(self, action):\n",
    "        state = [0, 0]\n",
    "        if (action > 0):\n",
    "            effective_action = min(action, self.state[0])\n",
    "        else:\n",
    "            effective_action = -min(-action, self.state[1])\n",
    "        state[0] = min(self.state[0] - effective_action, self.location_capacity)\n",
    "        state[1] = min(self.state[1] + effective_action, self.location_capacity)\n",
    "        cost = self.transfer_cost * abs(action)\n",
    "        if (action >= 1):\n",
    "            cost -= 2\n",
    "        return state, cost\n",
    "        \n",
    "car_rental = CarRental()"
   ]
  },
  {
   "cell_type": "code",
   "execution_count": null,
   "metadata": {},
   "outputs": [],
   "source": [
    "total_reward = 0\n",
    "for i in range(100):\n",
    "    car_rental.reset()\n",
    "    for j in range(30):\n",
    "        car_rental.rent_and_return()\n",
    "        # car_rental.perform_action(1)\n",
    "        # car_rental.perform_action((car_rental.state[0] - car_rental.state[1] ) // 2)\n",
    "    #print(car_rental.reward)\n",
    "    total_reward += car_rental.reward\n",
    "print(\"Total:\", total_reward)"
   ]
  },
  {
   "cell_type": "code",
   "execution_count": null,
   "metadata": {},
   "outputs": [],
   "source": [
    "import math # compute Poisson's probabilities\n",
    "V_s = {}\n",
    "gamma = 0.9\n",
    "\n",
    "# policy consisting in reaching the state s' maximising the expected reward V_s\n",
    "def policy(s1, s2):\n",
    "    max_Vs =  -80\n",
    "    best_action = 0\n",
    "    for a in range(-s2, s1):\n",
    "        state_n, cost = car_rental.get_action_output(a)\n",
    "        sn1 ,sn2 = state_n[0], state_n[1]\n",
    "        value = 0\n",
    "        if (sn1, sn2) in V_s:\n",
    "            value = V_s[(sn1, sn2)]\n",
    "        if value > max_Vs:\n",
    "            max_Vs = value\n",
    "            best_action = a\n",
    "    return best_action   "
   ]
  },
  {
   "cell_type": "code",
   "execution_count": null,
   "metadata": {},
   "outputs": [],
   "source": [
    "for j in range(100):\n",
    "    # Policy evaluation\n",
    "    for s1, s2 in np.ndindex((car_rental.location_capacity + 1,car_rental.location_capacity + 1)):\n",
    "        action = policy(s1, s2)\n",
    "        car_rental.state = [s1, s2]\n",
    "        state_n, cost = car_rental.get_action_output(action)\n",
    "        sn1, sn2 = state_n[0], state_n[1]\n",
    "        if (sn1 < 0 or sn2 < 0):\n",
    "            print(action, car_rental.state, state_n)\n",
    "            raise IndexError\n",
    "        if (sn1, sn2) not in V_s:\n",
    "            V_s[(sn1, sn2)] = 0.0\n",
    "        # Compute expected reward given strategy consisting in doing nothing\n",
    "        # expected reward on location 1\n",
    "        V_s[(s1, s2)] = 0.0\n",
    "        for i in range(1 , sn1):\n",
    "            r = car_rental.rent_reward * i - cost\n",
    "            l_ambda = car_rental.car_request[0]\n",
    "            p_r = math.pow(l_ambda, i) * math.exp(-l_ambda) / math.factorial(i)\n",
    "            V_s[(s1, s2)] += p_r * (r + gamma * V_s[(sn1, sn2)] )\n",
    "\n",
    "        # expected reward on location 2\n",
    "        for i in range(1 , sn2):\n",
    "            r = car_rental.rent_reward * i - cost\n",
    "            l_ambda = car_rental.car_request[1]\n",
    "            p_r = math.pow(l_ambda, i) * math.exp(-l_ambda) / math.factorial(i)\n",
    "            V_s[(s1, s2)] += p_r * (r + gamma * V_s[(sn1, sn2)] )"
   ]
  },
  {
   "cell_type": "code",
   "execution_count": null,
   "metadata": {},
   "outputs": [],
   "source": [
    "print(V_s)"
   ]
  },
  {
   "cell_type": "code",
   "execution_count": null,
   "metadata": {},
   "outputs": [],
   "source": [
    "total_reward = 0\n",
    "for i in range(100):\n",
    "    car_rental.reset()\n",
    "    for j in range(30):\n",
    "        car_rental.rent_and_return()\n",
    "        action = policy(car_rental.state[0], car_rental.state[1])\n",
    "        car_rental.perform_action(action)\n",
    "        # print(\"From state\", car_rental.state, \"Action\", action)\n",
    "    # print(car_rental.reward)\n",
    "    total_reward += car_rental.reward\n",
    "print(\"Total:\", total_reward)"
   ]
  }
 ],
 "metadata": {
  "kernelspec": {
   "display_name": "Python 3",
   "language": "python",
   "name": "python3"
  },
  "language_info": {
   "codemirror_mode": {
    "name": "ipython",
    "version": 3
   },
   "file_extension": ".py",
   "mimetype": "text/x-python",
   "name": "python",
   "nbconvert_exporter": "python",
   "pygments_lexer": "ipython3",
   "version": "3.7.1"
  }
 },
 "nbformat": 4,
 "nbformat_minor": 2
}
