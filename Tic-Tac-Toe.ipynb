{
 "cells": [
  {
   "cell_type": "code",
   "execution_count": 1,
   "metadata": {},
   "outputs": [],
   "source": [
    "import numpy as np"
   ]
  },
  {
   "cell_type": "code",
   "execution_count": 29,
   "metadata": {},
   "outputs": [],
   "source": [
    "from random import randrange\n",
    "\n",
    "class TicTacToe: \n",
    "    \n",
    "    def __init__(self):\n",
    "        self.grid = np.zeros((3, 3), dtype=int)\n",
    "        self.board = self.grid.reshape(9,)\n",
    "        self.force_log = False\n",
    "        self.winner = -1\n",
    "        self.last_player = -1\n",
    "        self.n = 9\n",
    "        class ActionSpace:\n",
    "            def sample(self):\n",
    "                return randrange(self.n)\n",
    "        class Symbol:\n",
    "            CROSS = 0,\n",
    "            CIRCLE = 1\n",
    "    \n",
    "    def render(self):\n",
    "        self.force_log = True\n",
    "    \n",
    "    def close(self):\n",
    "        pass\n",
    "    \n",
    "    def start_game(self):\n",
    "        self.winner = -1\n",
    "        self.last_player = -1\n",
    "        self.grid = np.zeros((3, 3), dtype=int)\n",
    "        self.board = self.grid.reshape(9,)\n",
    "\n",
    "    def step(self, action):\n",
    "        if action < 0 or action > 8:\n",
    "            raise IndexError(action)\n",
    "        x, y = np.unravel_index(action, ticTac.grid.shape)\n",
    "        self.play(x, y, self.symbol)\n",
    "        \n",
    "        \n",
    "    def play(self, x, y, symbol):\n",
    "        if x < 0 or y < 0 or x >= 3 or y >= 3:\n",
    "            raise IndexError(x,y)\n",
    "        if self.grid[x, y] != 0:\n",
    "            raise IndexError(\"Already played\")\n",
    "        if symbol > 2:\n",
    "            raise IndexError(\"Wrong symbol\", symbol)\n",
    "        if symbol == self.last_player:\n",
    "            raise IndexError(\"Same player playing twice\")\n",
    "        self.grid[x, y] = symbol\n",
    "        self.last_player = symbol\n",
    "        if self.has_winner(symbol):\n",
    "            print(\"Winner {} !\".format(symbol))\n",
    "            self.winner = symbol\n",
    "    \n",
    "\n",
    "    def has_winner(self, symbol):\n",
    "        return (\n",
    "            (self.board[6] == symbol and self.board[7] == symbol and self.board[8] == symbol) or # across the top\n",
    "            (self.board[3] == symbol and self.board[4] == symbol and self.board[5] == symbol) or # across the middle\n",
    "            (self.board[0] == symbol and self.board[1] == symbol and self.board[2] == symbol) or # across the bottom\n",
    "            (self.board[6] == symbol and self.board[3] == symbol and self.board[0] == symbol) or # down the left side\n",
    "            (self.board[7] == symbol and self.board[4] == symbol and self.board[1] == symbol) or # down the middle\n",
    "            (self.board[8] == symbol and self.board[5] == symbol and self.board[2] == symbol) or # down the right side\n",
    "            (self.board[6] == symbol and self.board[4] == symbol and self.board[2] == symbol) or # diag\n",
    "            (self.board[8] == symbol and self.board[4] == symbol and self.board[0] == symbol)) # diagonal\n",
    "\n",
    "    def isBoardFull(self):\n",
    "        # Return True if every space on the board has been taken. Otherwise return False.\n",
    "        for i in range(9):\n",
    "            if self.board[i] == 0:\n",
    "                return False\n",
    "        if self.winner == -1:\n",
    "            self.winner = 0\n",
    "        return True"
   ]
  },
  {
   "cell_type": "code",
   "execution_count": 32,
   "metadata": {},
   "outputs": [
    {
     "name": "stdout",
     "output_type": "stream",
     "text": [
      "[[1 0 0]\n",
      " [0 0 0]\n",
      " [0 0 0]] [1 0 0 0 0 0 0 0 0]\n",
      "[[1 0 0]\n",
      " [0 0 2]\n",
      " [0 0 0]] [1 0 0 0 0 2 0 0 0]\n",
      "[[1 0 0]\n",
      " [1 0 2]\n",
      " [0 0 0]] [1 0 0 1 0 2 0 0 0]\n",
      "[[1 0 0]\n",
      " [1 0 2]\n",
      " [2 0 0]] [1 0 0 1 0 2 2 0 0]\n",
      "[[1 0 0]\n",
      " [1 0 2]\n",
      " [2 1 0]] [1 0 0 1 0 2 2 1 0]\n",
      "[[1 2 0]\n",
      " [1 0 2]\n",
      " [2 1 0]] [1 2 0 1 0 2 2 1 0]\n",
      "[[1 2 0]\n",
      " [1 1 2]\n",
      " [2 1 0]] [1 2 0 1 1 2 2 1 0]\n",
      "[[1 2 2]\n",
      " [1 1 2]\n",
      " [2 1 0]] [1 2 2 1 1 2 2 1 0]\n",
      "Winner 1 !\n",
      "[[1 2 2]\n",
      " [1 1 2]\n",
      " [2 1 1]] [1 2 2 1 1 2 2 1 1]\n"
     ]
    }
   ],
   "source": [
    "ticTac = TicTacToe()\n",
    "ticTac.start_game()\n",
    "i = 0\n",
    "pion = 0\n",
    "while ticTac.winner == -1:\n",
    "    while ticTac.board[i] != 0:\n",
    "        i = randrange(9)\n",
    "\n",
    "    ticTac.symbol = pion % 2 + 1\n",
    "    ticTac.step(i)\n",
    "    pion += 1\n",
    "    print(ticTac.grid, ticTac.board)"
   ]
  },
  {
   "cell_type": "code",
   "execution_count": 18,
   "metadata": {},
   "outputs": [
    {
     "name": "stdout",
     "output_type": "stream",
     "text": [
      "1 1\n"
     ]
    }
   ],
   "source": [
    "idx = 2\n",
    "unravel = np.unravel_index(idx, ticTac.grid.shape)\n",
    "print(ticTac.board[idx], ticTac.grid[unravel])"
   ]
  }
 ],
 "metadata": {
  "kernelspec": {
   "display_name": "Python 3",
   "language": "python",
   "name": "python3"
  }
 },
 "nbformat": 4,
 "nbformat_minor": 2
}
