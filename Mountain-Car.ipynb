{
 "cells": [
  {
   "cell_type": "markdown",
   "metadata": {},
   "source": [
    "# Play MountainCar"
   ]
  },
  {
   "cell_type": "code",
   "execution_count": null,
   "metadata": {},
   "outputs": [],
   "source": [
    "from gym.utils import play\n",
    "import gym\n",
    "env = gym.make(\"MountainCar-v0\")\n",
    "play.play(env)\n",
    "env.close()"
   ]
  },
  {
   "cell_type": "markdown",
   "metadata": {},
   "source": [
    "# Training"
   ]
  },
  {
   "cell_type": "code",
   "execution_count": null,
   "metadata": {},
   "outputs": [],
   "source": [
    "from qlearning import *\n",
    "import gym\n",
    "\n",
    "def state_function(state):\n",
    "    return (round(state[0], 1) , round(state[1], 2))\n",
    "env = gym.make(\"MountainCar-v0\")    \n",
    "game = GamePlayer(env, state_function)"
   ]
  },
  {
   "cell_type": "code",
   "execution_count": null,
   "metadata": {},
   "outputs": [],
   "source": [
    "total_episodes = 4000\n",
    "alpha = 0.2                # Learning rate\n",
    "gamma = 0.9                 # Discounting rate\n",
    "decay_rate = 0.0005        # Exponential decay rate for exploration prob\n",
    "epsilon = 0.9                 # Exploration rate\n",
    "#game.erase_training()\n",
    "rewards = game.train(total_episodes, alpha, gamma, epsilon, decay_rate, logEvery=1000)\n",
    "print(\"Total reward average:\", sum(rewards)/len(rewards))\n",
    "print(len(game.qtable))"
   ]
  },
  {
   "cell_type": "code",
   "execution_count": null,
   "metadata": {},
   "outputs": [],
   "source": [
    "action_function = lambda state: game.q_trained_action(state_function(state))\n",
    "visualize_computer_playing(5, env, action_function)"
   ]
  },
  {
   "cell_type": "markdown",
   "metadata": {},
   "source": [
    "## Matplotlib display"
   ]
  },
  {
   "cell_type": "code",
   "execution_count": null,
   "metadata": {},
   "outputs": [],
   "source": [
    "import matplotlib.pyplot as plt\n",
    "%matplotlib inline\n",
    "import numpy as np"
   ]
  },
  {
   "cell_type": "code",
   "execution_count": null,
   "metadata": {},
   "outputs": [],
   "source": [
    "xmin, ymin = tuple(env.observation_space.low)\n",
    "xmax, ymax = tuple(env.observation_space.high)\n",
    "X = [ x for x in np.arange(xmin, xmax, 0.05)]\n",
    "Y = [ y for y in np.arange(ymin, ymax, 0.005)]\n",
    "colors = 'bgry'"
   ]
  },
  {
   "cell_type": "code",
   "execution_count": null,
   "metadata": {},
   "outputs": [],
   "source": [
    "action_function = lambda state: game.q_trained_action(state_function(state))\n",
    "for x in X:\n",
    "    for y in Y:\n",
    "        plt.scatter(x, y, c=colors[action_function((x, y))], label='.')\n",
    "plt.show()"
   ]
  },
  {
   "cell_type": "markdown",
   "metadata": {},
   "source": [
    "# Using keras Q-training"
   ]
  },
  {
   "cell_type": "code",
   "execution_count": null,
   "metadata": {},
   "outputs": [],
   "source": [
    "import importlib\n",
    "import qlearning\n",
    "importlib.reload(qlearning)\n",
    "import gym"
   ]
  },
  {
   "cell_type": "code",
   "execution_count": null,
   "metadata": {},
   "outputs": [],
   "source": [
    "env = gym.make(\"MountainCar-v0\")\n",
    "# Redefine rewards\n",
    "import types\n",
    "\n",
    "env.reset_backup = env.reset\n",
    "env.step_backup = env.step\n",
    "env.episode_step = 0\n",
    "\n",
    "def reset(self):\n",
    "    self.episode_step = 0\n",
    "    return self.reset_backup()\n",
    "    \n",
    "def step(self, action):\n",
    "    self.episode_step += 1\n",
    "    state, reward, done, info = self.step_backup(action)\n",
    "    if done and self.episode_step < 200:\n",
    "        reward = 10+200-self.episode_step\n",
    "    return state, reward, done, info\n",
    "\n",
    "env.reset = types.MethodType(reset, env)\n",
    "env.step = types.MethodType(step, env)"
   ]
  },
  {
   "cell_type": "code",
   "execution_count": null,
   "metadata": {},
   "outputs": [],
   "source": [
    "from collections import deque\n",
    "import numpy as np\n",
    "\n",
    "class DoneMemory():\n",
    "    def __init__(self):\n",
    "        self.mem_done = qlearning.Memory(2000)\n",
    "        self.mem_not_done = qlearning.Memory(200000)\n",
    "    \n",
    "    def add(self, experience):\n",
    "        state, action, reward, done, next_state = experience\n",
    "        if done:\n",
    "            self.mem_done.add(experience)\n",
    "            return\n",
    "        self.mem_not_done.add(experience)\n",
    "    \n",
    "    def sample(self, batch_size):\n",
    "        len_done = min(len(self.mem_done), int(batch_size/10))\n",
    "        samples = self.mem_not_done.sample(batch_size-len_done)\n",
    "        samples += self.mem_done.sample(len_done)\n",
    "        return samples"
   ]
  },
  {
   "cell_type": "code",
   "execution_count": null,
   "metadata": {},
   "outputs": [],
   "source": [
    "game = qlearning.GamePlayer(env)\n",
    "#game.memory = DoneMemory()"
   ]
  },
  {
   "cell_type": "code",
   "execution_count": null,
   "metadata": {},
   "outputs": [],
   "source": [
    "def play_function(state):\n",
    "    play_function.i += 1\n",
    "    if play_function.i > 130:\n",
    "        play_function.i = 0\n",
    "    if play_function.i < 20:\n",
    "        return 0\n",
    "    elif play_function.i < 50:\n",
    "        return 2\n",
    "    elif play_function.i < 90:\n",
    "        return 0\n",
    "    else:\n",
    "        return 2\n",
    "\n",
    "play_function.i = 0\n",
    "\n",
    "qlearning.visualize_computer_playing(1, env, play_function)"
   ]
  },
  {
   "cell_type": "code",
   "execution_count": null,
   "metadata": {},
   "outputs": [],
   "source": [
    "game.off_policy_model_train(30, play_function, layers_size=[24, 24, 24, 24, 24, 24], logEvery=100, trainQModel=True)\n",
    "qlearning.visualize_computer_playing(1, env, game.keras_qtrained_action)"
   ]
  },
  {
   "cell_type": "code",
   "execution_count": null,
   "metadata": {},
   "outputs": [],
   "source": [
    "import numpy as np\n",
    "batch = game.memory.sample(2000)\n",
    "for state, action, reward, done, nstate in batch:\n",
    "    prediction = game.qModel.predict(np.array(state).reshape(1, env.observation_space.shape[0]))\n",
    "    if done and reward <= 0:\n",
    "        print(state, action, nstate, reward, game.keras_qtrained_action(state), prediction)\n",
    "    if reward >=0:\n",
    "        print(\"Wow\", state, action, reward, done,\n",
    "              game.keras_qtrained_action(state), game.keras_qtrained_action(nstate), prediction)"
   ]
  },
  {
   "cell_type": "code",
   "execution_count": null,
   "metadata": {
    "scrolled": true
   },
   "outputs": [],
   "source": [
    "N = 200\n",
    "total_episodes = 400\n",
    "game.keras_qTrain(N, total_episodes, alpha=0.001, gamma=0.9, layers_size=[50, 250, 50],\n",
    "                      decay_rate=0.9995, epsilon=0.5, logEvery=20)"
   ]
  },
  {
   "cell_type": "code",
   "execution_count": null,
   "metadata": {},
   "outputs": [],
   "source": [
    "qlearning.visualize_computer_playing(5, env, game.keras_qtrained_action)"
   ]
  },
  {
   "cell_type": "markdown",
   "metadata": {},
   "source": [
    "## Matplotlib display"
   ]
  },
  {
   "cell_type": "code",
   "execution_count": null,
   "metadata": {},
   "outputs": [],
   "source": [
    "import matplotlib.pyplot as plt\n",
    "%matplotlib inline\n",
    "import numpy as np"
   ]
  },
  {
   "cell_type": "code",
   "execution_count": null,
   "metadata": {},
   "outputs": [],
   "source": [
    "xmin, ymin = tuple(env.observation_space.low)\n",
    "xmax, ymax = tuple(env.observation_space.high)\n",
    "X = [ x for x in np.arange(xmin, xmax, 0.05)]\n",
    "Y = [ y for y in np.arange(ymin, ymax, 0.005)]\n",
    "colors = 'bgry'"
   ]
  },
  {
   "cell_type": "code",
   "execution_count": null,
   "metadata": {},
   "outputs": [],
   "source": [
    "for x in X:\n",
    "    for y in Y:\n",
    "        plt.scatter(x, y, c=colors[game.keras_qtrained_action((x, y))], label='o')\n",
    "plt.show()"
   ]
  },
  {
   "cell_type": "markdown",
   "metadata": {},
   "source": [
    "# Deep Q-Learning with Model evaluation"
   ]
  },
  {
   "cell_type": "code",
   "execution_count": null,
   "metadata": {},
   "outputs": [],
   "source": [
    "import importlib\n",
    "import qlearning\n",
    "importlib.reload(qlearning)\n",
    "import gym"
   ]
  },
  {
   "cell_type": "code",
   "execution_count": null,
   "metadata": {},
   "outputs": [],
   "source": [
    "env = gym.make(\"MountainCar-v0\")\n",
    "# Redefine rewards\n",
    "import types\n",
    "\n",
    "env.reset_backup = env.reset\n",
    "env.step_backup = env.step\n",
    "env.episode_step = 0\n",
    "\n",
    "def reset(self):\n",
    "    self.episode_step = 0\n",
    "    return self.reset_backup()\n",
    "    \n",
    "def step(self, action):\n",
    "    self.episode_step += 1\n",
    "    state, reward, done, info = self.step_backup(action)\n",
    "    if done and self.episode_step < 200:\n",
    "        reward = 10+200-self.episode_step\n",
    "    return state, reward, done, info\n",
    "\n",
    "env.reset = types.MethodType(reset, env)\n",
    "env.step = types.MethodType(step, env)"
   ]
  },
  {
   "cell_type": "code",
   "execution_count": null,
   "metadata": {},
   "outputs": [],
   "source": [
    "game = qlearning.GamePlayer(env)"
   ]
  },
  {
   "cell_type": "code",
   "execution_count": null,
   "metadata": {},
   "outputs": [],
   "source": [
    "def play_function(state):\n",
    "    play_function.i += 1\n",
    "    if play_function.i > 130:\n",
    "        play_function.i = 0\n",
    "    if play_function.i < 20:\n",
    "        return 0\n",
    "    elif play_function.i < 50:\n",
    "        return 2\n",
    "    elif play_function.i < 90:\n",
    "        return 0\n",
    "    else:\n",
    "        return 2\n",
    "\n",
    "play_function.i = 0\n",
    "\n",
    "qlearning.visualize_computer_playing(1, env, play_function)"
   ]
  },
  {
   "cell_type": "code",
   "execution_count": null,
   "metadata": {},
   "outputs": [],
   "source": [
    "game.off_policy_model_train(30, play_function, layers_size=[24, 24, 24, 24, 24, 24], logEvery=100, \n",
    "                            trainTransitionModel=True, trainQModel=True)\n",
    "qlearning.visualize_computer_playing(1, env, game.keras_qtrained_modelTrained_action)"
   ]
  },
  {
   "cell_type": "code",
   "execution_count": null,
   "metadata": {},
   "outputs": [],
   "source": [
    "N = 200\n",
    "total_episodes = 400\n",
    "game.keras_qTrain_modelTrain(N, total_episodes, alpha=0.001, gamma=0.9, layers_size=[50, 250, 50],\n",
    "                      decay_rate=0.9995, epsilon=0.5, logEvery=20)"
   ]
  },
  {
   "cell_type": "code",
   "execution_count": null,
   "metadata": {},
   "outputs": [],
   "source": [
    "qlearning.visualize_computer_playing(3, env, game.keras_qtrained_modelTrained_action)"
   ]
  },
  {
   "cell_type": "code",
   "execution_count": null,
   "metadata": {},
   "outputs": [],
   "source": [
    "import numpy as np\n",
    "batch = game.memory.sample(2000)\n",
    "for state, action, reward, done, nstate in batch:\n",
    "    prediction = game.qModel.predict(np.array(state).reshape(1, env.observation_space.shape[0]))\n",
    "    S = np.array(state).reshape(1, 2)\n",
    "    A = np.array(action).reshape(1, 1)\n",
    "    vstate = game.transitionModel.predict(np.concatenate((S, A), axis=1))[0]\n",
    "    if done and reward <= 0:\n",
    "        print(state, action, nstate, reward, game.keras_qtrained_modelTrained_action(state), prediction)\n",
    "        print(\"V(S)\", vstate, [vstate[0]-state[0], vstate[1]-state[1]] )\n",
    "    if reward >=0:\n",
    "        print(\"V(S), next_state\", vstate, nstate, [(vstate[0]-state[0])/state[0], (vstate[1]-state[1])/state[1]] )\n",
    "        print(\"Wow\", state, action, reward, done,\n",
    "              game.keras_qtrained_action(state), game.keras_qtrained_modelTrained_action(nstate), prediction)"
   ]
  },
  {
   "cell_type": "markdown",
   "metadata": {},
   "source": [
    "## Matplotlib display"
   ]
  },
  {
   "cell_type": "code",
   "execution_count": null,
   "metadata": {},
   "outputs": [],
   "source": [
    "import matplotlib.pyplot as plt\n",
    "%matplotlib inline\n",
    "import numpy as np"
   ]
  },
  {
   "cell_type": "code",
   "execution_count": null,
   "metadata": {},
   "outputs": [],
   "source": [
    "xmin, ymin = tuple(env.observation_space.low)\n",
    "xmax, ymax = tuple(env.observation_space.high)\n",
    "X = [ x for x in np.arange(xmin, xmax, 0.05)]\n",
    "Y = [ y for y in np.arange(ymin, ymax, 0.005)]\n",
    "colors = 'bgry'"
   ]
  },
  {
   "cell_type": "code",
   "execution_count": null,
   "metadata": {},
   "outputs": [],
   "source": [
    "for x in X:\n",
    "    for y in Y:\n",
    "        plt.scatter(x, y, c=colors[game.keras_qtrained_modelTrained_action((x, y))], label='o')\n",
    "plt.show()"
   ]
  },
  {
   "cell_type": "markdown",
   "metadata": {},
   "source": [
    "# Deep state value learning"
   ]
  },
  {
   "cell_type": "code",
   "execution_count": null,
   "metadata": {},
   "outputs": [],
   "source": [
    "import importlib\n",
    "import qlearning\n",
    "importlib.reload(qlearning)\n",
    "import gym"
   ]
  },
  {
   "cell_type": "code",
   "execution_count": null,
   "metadata": {},
   "outputs": [],
   "source": [
    "env = gym.make(\"MountainCar-v0\")\n",
    "# Redefine rewards\n",
    "import types\n",
    "\n",
    "env.reset_backup = env.reset\n",
    "env.step_backup = env.step\n",
    "env.episode_step = 0\n",
    "\n",
    "def reset(self):\n",
    "    self.episode_step = 0\n",
    "    return self.reset_backup()\n",
    "    \n",
    "def step(self, action):\n",
    "    self.episode_step += 1\n",
    "    state, reward, done, info = self.step_backup(action)\n",
    "    if done and self.episode_step < 200:\n",
    "        reward = 10+200-self.episode_step\n",
    "    return state, reward, done, info\n",
    "\n",
    "env.reset = types.MethodType(reset, env)\n",
    "env.step = types.MethodType(step, env)"
   ]
  },
  {
   "cell_type": "code",
   "execution_count": null,
   "metadata": {},
   "outputs": [],
   "source": [
    "game = qlearning.GamePlayer(env)"
   ]
  },
  {
   "cell_type": "code",
   "execution_count": null,
   "metadata": {},
   "outputs": [],
   "source": [
    "N = 200\n",
    "total_episodes = 400\n",
    "game.keras_vTrain_modelTrain(N, total_episodes, alpha=0.001, gamma=0.9, layers_size=[50, 250, 50],\n",
    "                      decay_rate=0.9995, epsilon=0.5, logEvery=20)"
   ]
  },
  {
   "cell_type": "code",
   "execution_count": null,
   "metadata": {},
   "outputs": [],
   "source": [
    "qlearning.visualize_computer_playing(3, env, game.keras_vtrained_action)"
   ]
  },
  {
   "cell_type": "code",
   "execution_count": null,
   "metadata": {},
   "outputs": [],
   "source": [
    "import numpy as np\n",
    "batch = game.memory.sample(2000)\n",
    "for state, action, reward, done, nstate in batch:\n",
    "    if done:\n",
    "        s = np.array(state).reshape(1, 2)\n",
    "        ns = np.array(nstate).reshape(1, 2)\n",
    "        prediction = game.vModel.predict(s)[0][0]\n",
    "        sprediction = game.vModel.predict(ns)[0][0]\n",
    "        if reward < 0:\n",
    "            print(state, action, nstate, reward, game.keras_vtrained_action(state), prediction, sprediction)\n",
    "        if reward >=0:\n",
    "            print(\"Wow\", state, action, reward, done,\n",
    "                  game.keras_vtrained_action(state), prediction, sprediction)"
   ]
  },
  {
   "cell_type": "markdown",
   "metadata": {},
   "source": [
    "## Matplotlib display"
   ]
  },
  {
   "cell_type": "code",
   "execution_count": null,
   "metadata": {},
   "outputs": [],
   "source": [
    "import matplotlib.pyplot as plt\n",
    "%matplotlib inline\n",
    "import numpy as np"
   ]
  },
  {
   "cell_type": "code",
   "execution_count": null,
   "metadata": {},
   "outputs": [],
   "source": [
    "xmin, ymin = tuple(env.observation_space.low)\n",
    "xmax, ymax = tuple(env.observation_space.high)\n",
    "X = [ x for x in np.arange(xmin, xmax, 0.05)]\n",
    "Y = [ y for y in np.arange(ymin, ymax, 0.005)]\n",
    "colors = 'bgry'"
   ]
  },
  {
   "cell_type": "code",
   "execution_count": null,
   "metadata": {},
   "outputs": [],
   "source": [
    "for x in X:\n",
    "    for y in Y:\n",
    "        plt.scatter(x, y, c=colors[game.keras_vtrained_action((x, y))], label='o')\n",
    "plt.show()"
   ]
  }
 ],
 "metadata": {
  "kernelspec": {
   "display_name": "Reinforcement Learning",
   "language": "python",
   "name": "rl"
  },
  "language_info": {
   "codemirror_mode": {
    "name": "ipython",
    "version": 3
   },
   "file_extension": ".py",
   "mimetype": "text/x-python",
   "name": "python",
   "nbconvert_exporter": "python",
   "pygments_lexer": "ipython3",
   "version": "3.7.3"
  }
 },
 "nbformat": 4,
 "nbformat_minor": 2
}
