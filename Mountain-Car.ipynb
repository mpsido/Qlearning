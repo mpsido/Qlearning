{
 "cells": [
  {
   "cell_type": "markdown",
   "metadata": {},
   "source": [
    "# Play MountainCar"
   ]
  },
  {
   "cell_type": "code",
   "execution_count": null,
   "metadata": {},
   "outputs": [],
   "source": [
    "from gym.utils import play\n",
    "import gym\n",
    "env = gym.make(\"MountainCar-v0\")\n",
    "play.play(env)\n",
    "env.close()"
   ]
  },
  {
   "cell_type": "markdown",
   "metadata": {},
   "source": [
    "# Training"
   ]
  },
  {
   "cell_type": "code",
   "execution_count": null,
   "metadata": {},
   "outputs": [],
   "source": [
    "from qlearning import *\n",
    "import gym\n",
    "\n",
    "def state_function(state):\n",
    "    return (round(state[0], 1) , round(state[1], 2))\n",
    "env = gym.make(\"MountainCar-v0\")    \n",
    "game = GamePlayer(env, state_function)"
   ]
  },
  {
   "cell_type": "code",
   "execution_count": null,
   "metadata": {},
   "outputs": [],
   "source": [
    "total_episodes = 4000\n",
    "alpha = 0.2                # Learning rate\n",
    "gamma = 0.9                 # Discounting rate\n",
    "decay_rate = 0.0005        # Exponential decay rate for exploration prob\n",
    "epsilon = 0.9                 # Exploration rate\n",
    "#game.erase_training()\n",
    "rewards = game.train(total_episodes, alpha, gamma, epsilon, decay_rate, logEvery=1000)\n",
    "print(\"Total reward average:\", sum(rewards)/len(rewards))\n",
    "print(len(game.qtable))"
   ]
  },
  {
   "cell_type": "code",
   "execution_count": null,
   "metadata": {},
   "outputs": [],
   "source": [
    "action_function = lambda state: game.q_trained_action(state_function(state))\n",
    "visualize_computer_playing(5, env, action_function)"
   ]
  },
  {
   "cell_type": "markdown",
   "metadata": {},
   "source": [
    "# Using keras"
   ]
  },
  {
   "cell_type": "code",
   "execution_count": null,
   "metadata": {},
   "outputs": [],
   "source": [
    "import importlib\n",
    "import qlearning\n",
    "importlib.reload(qlearning)\n",
    "import gym"
   ]
  },
  {
   "cell_type": "code",
   "execution_count": null,
   "metadata": {},
   "outputs": [],
   "source": [
    "env = gym.make(\"MountainCar-v0\")\n",
    "game = qlearning.GamePlayer(env)"
   ]
  },
  {
   "cell_type": "code",
   "execution_count": null,
   "metadata": {},
   "outputs": [],
   "source": [
    "# Redefine rewards\n",
    "import types\n",
    "\n",
    "env.reset_backup = env.reset\n",
    "env.step_backup = env.step\n",
    "env.episode_step = 0\n",
    "\n",
    "def reset(self):\n",
    "    self.episode_step = 0\n",
    "    return self.reset_backup()\n",
    "    \n",
    "def step(self, action):\n",
    "    self.episode_step += 1\n",
    "    state, reward, done, info = self.step_backup(action)\n",
    "    if done and self.episode_step < 200:\n",
    "        reward = 10+200-self.episode_step\n",
    "    return state, reward, done, info\n",
    "\n",
    "env.reset = types.MethodType(reset, env)\n",
    "env.step = types.MethodType(step, env)"
   ]
  },
  {
   "cell_type": "code",
   "execution_count": null,
   "metadata": {},
   "outputs": [],
   "source": [
    "N = 40\n",
    "total_episodes = 500\n",
    "game.keras_dqn_replay(N, total_episodes, alpha=0.1, gamma=0.9, layers_size=[24, 24, 24, 24],\n",
    "                      decay_rate=0.9995, epsilon=0.8, logEvery=50)"
   ]
  },
  {
   "cell_type": "code",
   "execution_count": null,
   "metadata": {},
   "outputs": [],
   "source": [
    "import numpy as np\n",
    "batch = game.memory.sample(len(game.memory))\n",
    "for state, action, reward, done, nstate in batch:\n",
    "    if done and False:\n",
    "        prediction = game.model.predict(np.array(state).reshape(1, 2))[0]\n",
    "        print(state, action, nstate, reward, prediction)\n",
    "    if reward >=0:\n",
    "        prediction = game.model.predict(np.array(state).reshape(1, 2))[0]\n",
    "        prediction_n = game.model.predict(np.array(nstate).reshape(1, 2))[0]\n",
    "        print(\"Wow\", state, action, reward, done, prediction, prediction_n)\n",
    "len(game.memory)"
   ]
  },
  {
   "cell_type": "code",
   "execution_count": null,
   "metadata": {},
   "outputs": [],
   "source": [
    "qlearning.visualize_computer_playing(5, env, game.keras_trained_action)"
   ]
  }
 ],
 "metadata": {
  "kernelspec": {
   "display_name": "Reinforcement Learning",
   "language": "python",
   "name": "rl"
  },
  "language_info": {
   "codemirror_mode": {
    "name": "ipython",
    "version": 3
   },
   "file_extension": ".py",
   "mimetype": "text/x-python",
   "name": "python",
   "nbconvert_exporter": "python",
   "pygments_lexer": "ipython3",
   "version": "3.7.3"
  }
 },
 "nbformat": 4,
 "nbformat_minor": 2
}
