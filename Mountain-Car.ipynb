{
 "cells": [
  {
   "cell_type": "markdown",
   "metadata": {},
   "source": [
    "# Play MountainCar"
   ]
  },
  {
   "cell_type": "code",
   "execution_count": null,
   "metadata": {},
   "outputs": [],
   "source": [
    "from gym.utils import play\n",
    "import gym\n",
    "env = gym.make(\"MountainCar-v0\")\n",
    "play.play(env)\n",
    "env.close()"
   ]
  },
  {
   "cell_type": "markdown",
   "metadata": {},
   "source": [
    "# Q Learning without state decomposition"
   ]
  },
  {
   "cell_type": "code",
   "execution_count": null,
   "metadata": {},
   "outputs": [],
   "source": [
    "import gym\n",
    "\n",
    "import random\n",
    "from math import log10, floor\n",
    "import numpy as np\n",
    "\n",
    "def round_to(x, sig_figs):\n",
    "    if x == 0.0:\n",
    "        return 0.0\n",
    "    if x < 0.0:\n",
    "        return round(x, -int(floor(log10(abs(-x))) - (sig_figs - 1)))\n",
    "    return round(x, -int(floor(log10(abs(x))) - (sig_figs - 1)))\n",
    "\n",
    "class GamePlayer:\n",
    "\n",
    "    def __init__(self):\n",
    "        self.env = gym.make(\"MountainCar-v0\")\n",
    "        self.qtable = {}\n",
    "        \n",
    "    def erase_training(self):\n",
    "        self.qtable = {}\n",
    "    \n",
    "    def Q(self, state):\n",
    "        s = round_to(100000.0*(state[0]+2.0), 2) + round_to(1.0+state[1], 2)\n",
    "        if s not in self.qtable:\n",
    "            self.qtable[s] = []\n",
    "            for i in range(self.env.action_space.n):\n",
    "                self.qtable[s].append(random.uniform(0, 1))\n",
    "        return self.qtable[s]\n",
    "#         s = [ round_to(st, 2) for st in state ]\n",
    "#         if (s[0], s[1]) not in self.qtable:\n",
    "#             self.qtable[(s[0], s[1])] = []\n",
    "#             for i in range(self.env.action_space.n):\n",
    "#                 self.qtable[(s[0], s[1])].append(random.uniform(0, 1))\n",
    "#         return self.qtable[(s[0], s[1])]\n",
    "    \n",
    "    def epison_q_action(self, state, epsilon):\n",
    "        # 3. Choose an action a in the current world state (s)\n",
    "        ## First we randomize a number\n",
    "        exp_exp_tradeoff = random.uniform(0, 1)\n",
    "\n",
    "        ## If this number > greater than epsilon --> exploitation (taking the biggest Q value for this state)\n",
    "        if exp_exp_tradeoff > epsilon:\n",
    "            action = np.argmax(self.Q(state))\n",
    "        # Else doing a random choice --> exploration\n",
    "        else:\n",
    "            action = self.env.action_space.sample()\n",
    "        return action\n",
    "    \n",
    "    def start_game(self, render = False):\n",
    "        state = self.env.reset()\n",
    "        if (render):\n",
    "            self.env.render()\n",
    "\n",
    "    def computer_play_step(self):\n",
    "        action = np.argmax(self.Q(self.state))\n",
    "        return self.play_game_step(action)\n",
    "        \n",
    "    def play_game_step(self, action, render = True):\n",
    "        new_state, reward, done, info = self.env.step(action)\n",
    "        self.state = new_state\n",
    "        if (render):\n",
    "            self.env.render()\n",
    "        return new_state, reward, done, info\n",
    "\n",
    "    def end_game(self):\n",
    "        self.env.close()\n",
    "        \n",
    "        \n",
    "    def train(self, total_episodes, alpha, gamma, epsilon, decay_rate):\n",
    "        self.start_game(False)\n",
    "        # Exploration parameters\n",
    "        max_epsilon = 1.0             # Exploration probability at start\n",
    "        min_epsilon = 0.01            # Minimum exploration probability \n",
    "        \n",
    "        # 2 For life or until learning is stopped\n",
    "        for episode in range(total_episodes):\n",
    "            # Reset the environment\n",
    "            state = self.env.reset()\n",
    "            done = False\n",
    "            while done is False:\n",
    "                action = self.epison_q_action(state, epsilon)\n",
    "                if action > 2:\n",
    "                    raise IndexError\n",
    "                # Take the action (a) and observe the outcome state(s') and reward (r)\n",
    "                new_state, reward, done, info = self.play_game_step(action, False)\n",
    "                \n",
    "                if reward > 0:\n",
    "                    print(\"Youhou !!\")\n",
    "                # dirty ugly cheat witchcraft that does not even work\n",
    "                # reward += abs(new_state[0])+10.0*abs(new_state[1])\n",
    "\n",
    "                # Update Q(s,a):= Q(s,a) + lr [R(s,a) + gamma * max Q(s',a') - Q(s,a)]\n",
    "                self.Q(state)[action] = self.Q(state)[action] + alpha * (reward  + gamma * max(self.Q(new_state)) - self.Q(state)[action])\n",
    "\n",
    "                # Our new state is state\n",
    "                self.state = new_state\n",
    "\n",
    "                # If done (if we're dead) : finish episode\n",
    "                if done == True:\n",
    "                    break\n",
    "\n",
    "            # Reduce epsilon (because we need less and less exploration)\n",
    "            #epsilon = min_epsilon + (max_epsilon - min_epsilon) * np.exp(-decay_rate*episode)"
   ]
  },
  {
   "cell_type": "code",
   "execution_count": null,
   "metadata": {},
   "outputs": [],
   "source": [
    "game = GamePlayer()"
   ]
  },
  {
   "cell_type": "code",
   "execution_count": null,
   "metadata": {},
   "outputs": [],
   "source": [
    "total_episodes = 1500       # Total episodes\n",
    "alpha = 0.2                # Learning rate\n",
    "gamma = 0.9                 # Discounting rate\n",
    "decay_rate = 0.5          # Exponential decay rate for exploration prob\n",
    "epsilon = 0.1                 # Exploration rate\n",
    "#game.erase_training()\n",
    "game.train(total_episodes, alpha, gamma, epsilon, decay_rate)\n",
    "print(len(game.qtable))"
   ]
  },
  {
   "cell_type": "code",
   "execution_count": null,
   "metadata": {},
   "outputs": [],
   "source": [
    "for episode in range(5):\n",
    "    game.start_game()\n",
    "    print(\"****************************************************\")\n",
    "    print(\"EPISODE \", episode)\n",
    "    done = False\n",
    "    while done is False:\n",
    "    # for step in range(max_steps):\n",
    "        # Take the action (index) that have the maximum expected future reward given that state\n",
    "        new_state, reward, done, info = game.computer_play_step()\n",
    "        #game.play_game_step(0)\n",
    "game.end_game()\n",
    "if reward > 0:\n",
    "    print(\"Youhou !!\")"
   ]
  },
  {
   "cell_type": "code",
   "execution_count": null,
   "metadata": {},
   "outputs": [],
   "source": [
    "game.qtable"
   ]
  },
  {
   "cell_type": "code",
   "execution_count": null,
   "metadata": {},
   "outputs": [],
   "source": [
    "print(env.observation_space.high, env.observation_space.low)"
   ]
  }
 ],
 "metadata": {
  "kernelspec": {
   "display_name": "Python 3",
   "language": "python",
   "name": "python3"
  },
  "language_info": {
   "codemirror_mode": {
    "name": "ipython",
    "version": 3
   },
   "file_extension": ".py",
   "mimetype": "text/x-python",
   "name": "python",
   "nbconvert_exporter": "python",
   "pygments_lexer": "ipython3",
   "version": "3.7.1"
  }
 },
 "nbformat": 4,
 "nbformat_minor": 2
}
