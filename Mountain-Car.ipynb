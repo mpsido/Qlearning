{
 "cells": [
  {
   "cell_type": "markdown",
   "metadata": {},
   "source": [
    "# Play MountainCar"
   ]
  },
  {
   "cell_type": "code",
   "execution_count": null,
   "metadata": {},
   "outputs": [],
   "source": [
    "from gym.utils import play\n",
    "import gym\n",
    "env = gym.make(\"MountainCar-v0\")\n",
    "play.play(env)\n",
    "env.close()"
   ]
  },
  {
   "cell_type": "markdown",
   "metadata": {},
   "source": [
    "# Q Learning without state decomposition"
   ]
  },
  {
   "cell_type": "code",
   "execution_count": null,
   "metadata": {},
   "outputs": [],
   "source": [
    "import gym\n",
    "\n",
    "import math, random\n",
    "import numpy as np\n",
    "\n",
    "class GamePlayer:\n",
    "\n",
    "    def __init__(self):\n",
    "        self.env = gym.make(\"MountainCar-v0\")\n",
    "        self.obs_space = self.env.observation_space\n",
    "        self.qtable = {}\n",
    "        \n",
    "    def erase_training(self):\n",
    "        self.qtable = {}\n",
    "    \n",
    "    def Q(self, state):\n",
    "        s = [ round(st*1000.0, 3) for st in state ]\n",
    "        if (s[0], s[1]) not in self.qtable:\n",
    "            self.qtable[(s[0], s[1])] = []\n",
    "            for i in range(self.env.action_space.n):\n",
    "                self.qtable[(s[0], s[1])].append(random.uniform(0, 1))\n",
    "        return self.qtable[(s[0], s[1])]\n",
    "    \n",
    "    def epison_q_action(self, state, epsilon):\n",
    "        # 3. Choose an action a in the current world state (s)\n",
    "        ## First we randomize a number\n",
    "        exp_exp_tradeoff = random.uniform(0, 1)\n",
    "\n",
    "        ## If this number > greater than epsilon --> exploitation (taking the biggest Q value for this state)\n",
    "        if exp_exp_tradeoff > epsilon:\n",
    "            action = np.argmax(self.Q(state))\n",
    "        # Else doing a random choice --> exploration\n",
    "        else:\n",
    "            action = self.env.action_space.sample()\n",
    "        return action\n",
    "    \n",
    "    def start_game(self, render = False):\n",
    "        state = self.env.reset()\n",
    "        self.speed = 0\n",
    "        if (render):\n",
    "            self.env.render()\n",
    "\n",
    "    def computer_play_step(self):\n",
    "        action = np.argmax(self.Q(self.state))\n",
    "        return self.play_game_step(action)\n",
    "        \n",
    "    def play_game_step(self, action, render = True):\n",
    "        new_state, reward, done, info = self.env.step(action)\n",
    "        self.state = new_state\n",
    "        if (render):\n",
    "            self.env.render()\n",
    "        return new_state, reward, done, info\n",
    "\n",
    "    def end_game(self):\n",
    "        self.env.close()\n",
    "        \n",
    "        \n",
    "    def train(self, total_episodes, alpha, gamma, decay_rate):\n",
    "        self.start_game(False)\n",
    "        # Exploration parameters\n",
    "        epsilon = 0.1                 # Exploration rate\n",
    "        max_epsilon = 1.0             # Exploration probability at start\n",
    "        min_epsilon = 0.01            # Minimum exploration probability \n",
    "        \n",
    "        # 2 For life or until learning is stopped\n",
    "        for episode in range(total_episodes):\n",
    "            # Reset the environment\n",
    "            state = self.env.reset()\n",
    "            done = False\n",
    "            while done is False:\n",
    "                action = self.epison_q_action(state, epsilon)\n",
    "                if action > 2:\n",
    "                    raise IndexError\n",
    "                # Take the action (a) and observe the outcome state(s') and reward (r)\n",
    "                new_state, reward, done, info = self.play_game_step(action, False)\n",
    "\n",
    "                # Update Q(s,a):= Q(s,a) + lr [R(s,a) + gamma * max Q(s',a') - Q(s,a)]\n",
    "                self.Q(state)[action] += (\n",
    "                alpha * (reward  + gamma * max(self.Q(new_state)) - self.Q(state)[action]) )\n",
    "\n",
    "                # Our new state is state\n",
    "                self.state = new_state\n",
    "\n",
    "                # If done (if we're dead) : finish episode\n",
    "                if done == True:\n",
    "                    break\n",
    "\n",
    "            # Reduce epsilon (because we need less and less exploration)\n",
    "            epsilon = min_epsilon + (max_epsilon - min_epsilon) * np.exp(-decay_rate*episode)"
   ]
  },
  {
   "cell_type": "code",
   "execution_count": null,
   "metadata": {},
   "outputs": [],
   "source": [
    "game = GamePlayer()"
   ]
  },
  {
   "cell_type": "code",
   "execution_count": null,
   "metadata": {},
   "outputs": [],
   "source": [
    "total_episodes = 1000       # Total episodes\n",
    "alpha = 0.7        # Learning rate\n",
    "gamma = 0.9                 # Discounting rate\n",
    "decay_rate = 0.005            # Exponential decay rate for exploration prob\n",
    "#game.erase_training()\n",
    "game.train(total_episodes, alpha, gamma, decay_rate)"
   ]
  },
  {
   "cell_type": "code",
   "execution_count": null,
   "metadata": {},
   "outputs": [],
   "source": [
    "for episode in range(5):\n",
    "    game.start_game()\n",
    "    print(\"****************************************************\")\n",
    "    print(\"EPISODE \", episode)\n",
    "    done = False\n",
    "    while done is False:\n",
    "    # for step in range(max_steps):\n",
    "        # Take the action (index) that have the maximum expected future reward given that state\n",
    "        new_state, reward, done, info = game.computer_play_step()\n",
    "        #game.play_game_step(1)\n",
    "game.end_game()"
   ]
  },
  {
   "cell_type": "code",
   "execution_count": null,
   "metadata": {},
   "outputs": [],
   "source": [
    "game.qtable"
   ]
  }
 ],
 "metadata": {
  "kernelspec": {
   "display_name": "Python 3",
   "language": "python",
   "name": "python3"
  },
  "language_info": {
   "codemirror_mode": {
    "name": "ipython",
    "version": 3
   },
   "file_extension": ".py",
   "mimetype": "text/x-python",
   "name": "python",
   "nbconvert_exporter": "python",
   "pygments_lexer": "ipython3",
   "version": "3.7.1"
  }
 },
 "nbformat": 4,
 "nbformat_minor": 2
}
