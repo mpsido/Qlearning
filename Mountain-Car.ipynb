{
 "cells": [
  {
   "cell_type": "markdown",
   "metadata": {},
   "source": [
    "# Play MountainCar"
   ]
  },
  {
   "cell_type": "code",
   "execution_count": null,
   "metadata": {},
   "outputs": [],
   "source": [
    "from gym.utils import play\n",
    "import gym\n",
    "env = gym.make(\"MountainCar-v0\")\n",
    "play.play(env)\n",
    "env.close()"
   ]
  },
  {
   "cell_type": "markdown",
   "metadata": {},
   "source": [
    "# Training"
   ]
  },
  {
   "cell_type": "code",
   "execution_count": null,
   "metadata": {},
   "outputs": [],
   "source": [
    "from qlearning import *\n",
    "import gym\n",
    "\n",
    "def state_function(state):\n",
    "    return (round(state[0], 1) , round(state[1], 2))\n",
    "env = gym.make(\"MountainCar-v0\")    \n",
    "game = GamePlayer(env, state_function)"
   ]
  },
  {
   "cell_type": "code",
   "execution_count": null,
   "metadata": {},
   "outputs": [],
   "source": [
    "total_episodes = 4000\n",
    "alpha = 0.2                # Learning rate\n",
    "gamma = 0.9                 # Discounting rate\n",
    "decay_rate = 0.0005        # Exponential decay rate for exploration prob\n",
    "epsilon = 0.9                 # Exploration rate\n",
    "#game.erase_training()\n",
    "rewards = game.train(total_episodes, alpha, gamma, epsilon, decay_rate, logEvery=1000)\n",
    "print(\"Total reward average:\", sum(rewards)/len(rewards))\n",
    "print(len(game.qtable))"
   ]
  },
  {
   "cell_type": "code",
   "execution_count": null,
   "metadata": {},
   "outputs": [],
   "source": [
    "action_function = lambda state: game.q_trained_action(state_function(state))\n",
    "visualize_computer_playing(5, env, action_function)"
   ]
  },
  {
   "cell_type": "markdown",
   "metadata": {},
   "source": [
    "## Matplotlib display"
   ]
  },
  {
   "cell_type": "code",
   "execution_count": null,
   "metadata": {},
   "outputs": [],
   "source": [
    "import matplotlib.pyplot as plt\n",
    "%matplotlib inline\n",
    "import numpy as np"
   ]
  },
  {
   "cell_type": "code",
   "execution_count": null,
   "metadata": {},
   "outputs": [],
   "source": [
    "xmin, ymin = tuple(env.observation_space.low)\n",
    "xmax, ymax = tuple(env.observation_space.high)\n",
    "X = [ x for x in np.arange(xmin, xmax, 0.05)]\n",
    "Y = [ y for y in np.arange(ymin, ymax, 0.005)]\n",
    "colors = 'bgry'"
   ]
  },
  {
   "cell_type": "code",
   "execution_count": null,
   "metadata": {},
   "outputs": [],
   "source": [
    "action_function = lambda state: game.q_trained_action(state_function(state))\n",
    "for x in X:\n",
    "    for y in Y:\n",
    "        plt.scatter(x, y, c=colors[action_function((x, y))], label='.')\n",
    "plt.show()"
   ]
  },
  {
   "cell_type": "markdown",
   "metadata": {},
   "source": [
    "# Using keras"
   ]
  },
  {
   "cell_type": "code",
   "execution_count": null,
   "metadata": {},
   "outputs": [],
   "source": [
    "import importlib\n",
    "import qlearning\n",
    "importlib.reload(qlearning)\n",
    "import gym"
   ]
  },
  {
   "cell_type": "code",
   "execution_count": null,
   "metadata": {},
   "outputs": [],
   "source": [
    "env = gym.make(\"MountainCar-v0\")\n",
    "# Redefine rewards\n",
    "import types\n",
    "\n",
    "env.reset_backup = env.reset\n",
    "env.step_backup = env.step\n",
    "env.episode_step = 0\n",
    "\n",
    "def reset(self):\n",
    "    self.episode_step = 0\n",
    "    return self.reset_backup()\n",
    "    \n",
    "def step(self, action):\n",
    "    self.episode_step += 1\n",
    "    state, reward, done, info = self.step_backup(action)\n",
    "    if done and self.episode_step < 200:\n",
    "        reward = 10+200-self.episode_step\n",
    "    return state, reward, done, info\n",
    "\n",
    "env.reset = types.MethodType(reset, env)\n",
    "env.step = types.MethodType(step, env)"
   ]
  },
  {
   "cell_type": "code",
   "execution_count": null,
   "metadata": {},
   "outputs": [],
   "source": [
    "from collections import deque\n",
    "import numpy as np\n",
    "\n",
    "class DoneMemory():\n",
    "    def __init__(self):\n",
    "        self.mem_done = qlearning.Memory(2000)\n",
    "        self.mem_not_done = qlearning.Memory(200000)\n",
    "    \n",
    "    def add(self, experience):\n",
    "        state, action, reward, done, next_state = experience\n",
    "        if done:\n",
    "            self.mem_done.add(experience)\n",
    "            return\n",
    "        self.mem_not_done.add(experience)\n",
    "    \n",
    "    def sample(self, batch_size):\n",
    "        len_done = min(len(self.mem_done), int(batch_size/10))\n",
    "        samples = self.mem_not_done.sample(batch_size-len_done)\n",
    "        samples += self.mem_done.sample(len_done)\n",
    "        return samples"
   ]
  },
  {
   "cell_type": "code",
   "execution_count": null,
   "metadata": {},
   "outputs": [],
   "source": [
    "game = qlearning.GamePlayer(env)\n",
    "game.memory = DoneMemory()"
   ]
  },
  {
   "cell_type": "code",
   "execution_count": null,
   "metadata": {
    "scrolled": true
   },
   "outputs": [],
   "source": [
    "N = 200\n",
    "total_episodes = 4000\n",
    "game.keras_dqn_replay(N, total_episodes, alpha=0.1, gamma=0.9, layers_size=[50, 50, 50],\n",
    "                      decay_rate=0.9995, epsilon=0.8, logEvery=200)"
   ]
  },
  {
   "cell_type": "code",
   "execution_count": null,
   "metadata": {},
   "outputs": [],
   "source": [
    "import numpy as np\n",
    "batch = game.memory.sample(len(game.memory.mem_not_done))\n",
    "for state, action, reward, done, nstate in batch:\n",
    "    if done:\n",
    "        prediction = game.model.predict(np.array(state).reshape(1, 2))[0]\n",
    "        print(state, action, nstate, reward, prediction, game.keras_trained_action(state))\n",
    "    if reward >=0:\n",
    "        prediction = game.model.predict(np.array(state).reshape(1, 2))[0]\n",
    "        prediction_n = game.model.predict(np.array(nstate).reshape(1, 2))[0]\n",
    "        print(\"Wow\", state, action, reward, done, prediction, prediction_n)"
   ]
  },
  {
   "cell_type": "code",
   "execution_count": null,
   "metadata": {},
   "outputs": [],
   "source": [
    "qlearning.visualize_computer_playing(5, env, game.keras_trained_action)"
   ]
  },
  {
   "cell_type": "markdown",
   "metadata": {},
   "source": [
    "## Matplotlib display"
   ]
  },
  {
   "cell_type": "code",
   "execution_count": null,
   "metadata": {},
   "outputs": [],
   "source": [
    "import matplotlib.pyplot as plt\n",
    "%matplotlib inline\n",
    "import numpy as np"
   ]
  },
  {
   "cell_type": "code",
   "execution_count": null,
   "metadata": {},
   "outputs": [],
   "source": [
    "xmin, ymin = tuple(env.observation_space.low)\n",
    "xmax, ymax = tuple(env.observation_space.high)\n",
    "X = [ x for x in np.arange(xmin, xmax, 0.05)]\n",
    "Y = [ y for y in np.arange(ymin, ymax, 0.005)]\n",
    "colors = 'bgry'"
   ]
  },
  {
   "cell_type": "code",
   "execution_count": null,
   "metadata": {},
   "outputs": [],
   "source": [
    "for x in X:\n",
    "    for y in Y:\n",
    "        plt.scatter(x, y, c=colors[game.keras_trained_action((x, y))], label='o')\n",
    "plt.show()"
   ]
  }
 ],
 "metadata": {
  "kernelspec": {
   "display_name": "Reinforcement Learning",
   "language": "python",
   "name": "rl"
  },
  "language_info": {
   "codemirror_mode": {
    "name": "ipython",
    "version": 3
   },
   "file_extension": ".py",
   "mimetype": "text/x-python",
   "name": "python",
   "nbconvert_exporter": "python",
   "pygments_lexer": "ipython3",
   "version": "3.7.3"
  }
 },
 "nbformat": 4,
 "nbformat_minor": 2
}
